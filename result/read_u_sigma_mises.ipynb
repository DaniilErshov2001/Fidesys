{
 "cells": [
  {
   "cell_type": "code",
   "execution_count": 121,
   "id": "0dda0351-3138-4fba-bd8e-ee636b663f6b",
   "metadata": {},
   "outputs": [],
   "source": [
    "from PIL import Image, ImageDraw, ImageFont\n",
    "import math\n",
    "import os\n",
    "\n",
    "def PostProcess(inputfile, outputfile, output_folder):\n",
    "    os.makedirs(output_folder, exist_ok=True)\n",
    "    \n",
    "    with open(inputfile) as f:\n",
    "        content = f.readlines()\n",
    "\n",
    "    line = 1\n",
    "    nodesCount = int(content[line])\n",
    "    line += 1\n",
    "\n",
    "    nodes = [(float(content[i].split()[0]), float(content[i].split()[1])) for i in range(line, line + nodesCount)]\n",
    "    line += nodesCount\n",
    "    \n",
    "    min_x, min_y = max_x, max_y = nodes[0]\n",
    "    for x, y in nodes:\n",
    "        min_x, max_x = min(min_x, x), max(max_x, x)\n",
    "        min_y, max_y = min(min_y, y), max(max_y, y)\n",
    "    \n",
    "    elementsCount = int(content[line])\n",
    "    line += 1\n",
    "    elements = [tuple(map(int, content[i].split())) for i in range(line, line + elementsCount)]\n",
    "    \n",
    "    center = [(max_x + min_x) / 2.0, (max_y + min_y) / 2.0]\n",
    "    scale = max(max_x - min_x, max_y - min_y)\n",
    "    \n",
    "    with open(outputfile) as f:\n",
    "        resultsContent = list(map(float, f.readlines()))\n",
    "    \n",
    "    deforms = resultsContent[:nodesCount * 2]\n",
    "    stresses = [s for s in resultsContent[nodesCount * 2:]]  # Преобразуем в кН/м\n",
    "    \n",
    "    min_stress, max_stress = min(stresses), max(stresses)\n",
    "    print(f\"Max stress: {max_stress:.2f} MPa\")\n",
    "    \n",
    "    def Transform(point):\n",
    "        x = (point[0] - center[0]) / scale / 1.5 * image.size[0] + image.size[0] / 2.0\n",
    "        y = (point[1] - center[1]) / scale / 1.5 * image.size[1] + image.size[1] / 2.0\n",
    "        return (x, image.size[1] - y)\n",
    "    \n",
    "    image = Image.new(\"RGB\", (1024, 1024))\n",
    "    draw = ImageDraw.Draw(image)\n",
    "    draw.rectangle([(0, 0), image.size], fill=0x777777)\n",
    "    \n",
    "    for element in elements:\n",
    "        draw.polygon([Transform(nodes[element[i]]) for i in range(3)], fill=0x20a020, outline=0x707020)\n",
    "    \n",
    "    image.save(os.path.join(output_folder, \"initial.png\"), \"PNG\")\n",
    "    draw.rectangle([(0, 0), image.size], fill=0x777777)\n",
    "    \n",
    "    if max_stress == min_stress:\n",
    "        max_stress += 1.0\n",
    "        min_stress -= 1.0\n",
    "    \n",
    "    for idx, element in enumerate(elements):\n",
    "        v = (stresses[idx] - min_stress) / (max_stress - min_stress)\n",
    "        colorf = ((v - 0.5) * 4.0, 2.0 - abs(v - 0.5) * 4.0, 2.0 - v * 4.0)\n",
    "        colori = (int(colorf[0] * 255), int(colorf[1] * 255), int(colorf[2] * 255))\n",
    "        draw.polygon([Transform((nodes[element[i]][0] + deforms[2 * element[i]] * 50.0,\n",
    "                                 nodes[element[i]][1] + deforms[2 * element[i] + 1] * 50.0)) for i in range(3)], fill=colori)\n",
    "    \n",
    "    draw_legend(draw, image, min_stress, max_stress)\n",
    "    image.save(os.path.join(output_folder, \"sigmaMises.png\"), \"PNG\")\n",
    "\n",
    "def draw_legend(draw, image, min_stress, max_stress):\n",
    "    legend_x = image.size[0] - 150\n",
    "    legend_y = 100\n",
    "    legend_height = 800\n",
    "    steps = 50\n",
    "    \n",
    "    for i in range(steps):\n",
    "        v = i / steps\n",
    "        colorf = ((v - 0.5) * 4.0, 2.0 - abs(v - 0.5) * 4.0, 2.0 - v * 4.0)\n",
    "        colori = (int(colorf[0] * 255), int(colorf[1] * 255), int(colorf[2] * 255))\n",
    "        y_pos = legend_y + (1 - v) * legend_height\n",
    "        draw.rectangle([(legend_x, y_pos), (legend_x + 30, y_pos + legend_height / steps)], fill=colori)\n",
    "    \n",
    "    font = ImageFont.truetype(\"arial.ttf\", 20)  \n",
    "    draw.text((legend_x, legend_y - 20), f\"{max_stress:.2f} MPa\", fill=(255, 255, 255), font=font)\n",
    "    draw.text((legend_x, legend_y + legend_height + 5), f\"{min_stress:.2f} MPa\", fill=(255, 255, 255), font=font)\n"
   ]
  },
  {
   "cell_type": "code",
   "execution_count": 122,
   "id": "602758bd-bb38-4e8f-bf57-4dba72bac39f",
   "metadata": {},
   "outputs": [
    {
     "name": "stdout",
     "output_type": "stream",
     "text": [
      "Max stress: 300.85 MPa\n"
     ]
    }
   ],
   "source": [
    "directory =  \"C:/fydesis_cmake/result/\"\n",
    "inputfile = directory + \"input_check.txt\"  # Путь к файлу с узлами и элементами\n",
    "outputfile = directory + \"output.txt\"  # Путь к файлу с деформациями и напряжениями\n",
    "output_folder = directory  # Папка для сохранения изображений\n",
    "\n",
    "PostProcess(inputfile, outputfile, output_folder)"
   ]
  },
  {
   "cell_type": "code",
   "execution_count": null,
   "id": "8b27974b-12db-4023-878b-dd1418ce1885",
   "metadata": {},
   "outputs": [],
   "source": []
  },
  {
   "cell_type": "code",
   "execution_count": null,
   "id": "b79b5ad5-c375-4a50-b5ed-c559f65ea32c",
   "metadata": {},
   "outputs": [],
   "source": []
  },
  {
   "cell_type": "code",
   "execution_count": null,
   "id": "d1bc95df-a938-4dd6-813e-fe1866019614",
   "metadata": {},
   "outputs": [],
   "source": []
  }
 ],
 "metadata": {
  "kernelspec": {
   "display_name": "Python 3 (ipykernel)",
   "language": "python",
   "name": "python3"
  },
  "language_info": {
   "codemirror_mode": {
    "name": "ipython",
    "version": 3
   },
   "file_extension": ".py",
   "mimetype": "text/x-python",
   "name": "python",
   "nbconvert_exporter": "python",
   "pygments_lexer": "ipython3",
   "version": "3.11.8"
  }
 },
 "nbformat": 4,
 "nbformat_minor": 5
}
